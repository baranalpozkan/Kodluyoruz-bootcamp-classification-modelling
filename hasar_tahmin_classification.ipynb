{
 "cells": [
  {
   "cell_type": "markdown",
   "id": "0c9d0f63-afda-47ff-8b85-0a6e0896dc0f",
   "metadata": {},
   "source": [
    "# Classification Example"
   ]
  },
  {
   "cell_type": "code",
   "execution_count": 47,
   "id": "86c556f1-49b1-4078-9d26-c108df66596f",
   "metadata": {},
   "outputs": [],
   "source": [
    "# Libraries are imported\n",
    "import pandas as pd\n",
    "from sklearn.preprocessing import LabelEncoder, StandardScaler, LabelEncoder\n",
    "import numpy as np\n",
    "pd.options.mode.chained_assignment = None\n",
    "import matplotlib.pyplot as plt\n",
    "import seaborn as sns\n",
    "import missingno as msno\n",
    "%matplotlib inline\n",
    "\n",
    "from sklearn.linear_model import LogisticRegression\n",
    "from sklearn.tree import DecisionTreeClassifier\n",
    "from sklearn.ensemble import RandomForestClassifier\n",
    "from sklearn.metrics import accuracy_score, f1_score, precision_score, recall_score\n",
    "from sklearn.metrics import plot_confusion_matrix\n",
    "from sklearn.metrics import confusion_matrix, roc_auc_score, roc_curve, classification_report, precision_recall_curve, r2_score\n",
    "from sklearn.model_selection import train_test_split, cross_val_score, StratifiedKFold, GridSearchCV, RandomizedSearchCV"
   ]
  },
  {
   "cell_type": "code",
   "execution_count": 48,
   "id": "6fd47bac-f0b7-4e69-8688-7ee92187ad4b",
   "metadata": {},
   "outputs": [],
   "source": [
    "# Data is imported\n",
    "df = pd.read_csv(\"/Users/baranalp.ozkan/Desktop/yazılım/Veri/btcmp_v6.csv\", encoding=\"latin-1\")"
   ]
  },
  {
   "cell_type": "code",
   "execution_count": 49,
   "id": "daafdec6-caee-4c38-b2e9-72791dbc2aaa",
   "metadata": {},
   "outputs": [
    {
     "data": {
      "text/html": [
       "<div>\n",
       "<style scoped>\n",
       "    .dataframe tbody tr th:only-of-type {\n",
       "        vertical-align: middle;\n",
       "    }\n",
       "\n",
       "    .dataframe tbody tr th {\n",
       "        vertical-align: top;\n",
       "    }\n",
       "\n",
       "    .dataframe thead th {\n",
       "        text-align: right;\n",
       "    }\n",
       "</style>\n",
       "<table border=\"1\" class=\"dataframe\">\n",
       "  <thead>\n",
       "    <tr style=\"text-align: right;\">\n",
       "      <th></th>\n",
       "      <th>YEAR</th>\n",
       "      <th>PERSONEL_COMMERCIAL</th>\n",
       "      <th>KARA_LISTE_KONTROL</th>\n",
       "      <th>KULLANIM_SEKLI</th>\n",
       "      <th>MARKA</th>\n",
       "      <th>TIP_GRUP</th>\n",
       "      <th>EGM_KULLANIM_SEKLI</th>\n",
       "      <th>MOTOR_GUCU</th>\n",
       "      <th>SILINDIR_HACMI</th>\n",
       "      <th>PLAKA_IL_KODU</th>\n",
       "      <th>...</th>\n",
       "      <th>IHALE_FILO_KODU</th>\n",
       "      <th>ARAC_ALT_CINS</th>\n",
       "      <th>ARAC_UST_CINS_ID</th>\n",
       "      <th>SEGMENT</th>\n",
       "      <th>AGIRLIK</th>\n",
       "      <th>ARAC_TIPI</th>\n",
       "      <th>YAKIT_TIPI</th>\n",
       "      <th>LPG_VAR_MI</th>\n",
       "      <th>MESLEK</th>\n",
       "      <th>HASAR_VAR_MI</th>\n",
       "    </tr>\n",
       "  </thead>\n",
       "  <tbody>\n",
       "    <tr>\n",
       "      <th>0</th>\n",
       "      <td>2019</td>\n",
       "      <td>O</td>\n",
       "      <td>1</td>\n",
       "      <td>1</td>\n",
       "      <td>NaN</td>\n",
       "      <td>DFH5FD6H</td>\n",
       "      <td>4R561446512</td>\n",
       "      <td>109</td>\n",
       "      <td>1560</td>\n",
       "      <td>52</td>\n",
       "      <td>...</td>\n",
       "      <td>9999999</td>\n",
       "      <td>144RH5ER64HRE+</td>\n",
       "      <td>4.0</td>\n",
       "      <td>D</td>\n",
       "      <td>1578</td>\n",
       "      <td>10.0</td>\n",
       "      <td>D</td>\n",
       "      <td>H</td>\n",
       "      <td>45.0</td>\n",
       "      <td>0</td>\n",
       "    </tr>\n",
       "    <tr>\n",
       "      <th>1</th>\n",
       "      <td>2019</td>\n",
       "      <td>O</td>\n",
       "      <td>1</td>\n",
       "      <td>1</td>\n",
       "      <td>SD56G4SD5G4</td>\n",
       "      <td>1N1JTGH85FN1GF6H</td>\n",
       "      <td>4R561446512</td>\n",
       "      <td>90</td>\n",
       "      <td>1461</td>\n",
       "      <td>34</td>\n",
       "      <td>...</td>\n",
       "      <td>9999999</td>\n",
       "      <td>144RH5ER64HRE+</td>\n",
       "      <td>4.0</td>\n",
       "      <td>C</td>\n",
       "      <td>1280</td>\n",
       "      <td>10.0</td>\n",
       "      <td>D</td>\n",
       "      <td>H</td>\n",
       "      <td>3.0</td>\n",
       "      <td>0</td>\n",
       "    </tr>\n",
       "    <tr>\n",
       "      <th>2</th>\n",
       "      <td>2019</td>\n",
       "      <td>O</td>\n",
       "      <td>1</td>\n",
       "      <td>1</td>\n",
       "      <td>XC5B4XC5B4SFD</td>\n",
       "      <td>M1GH586M1G1MH51HG</td>\n",
       "      <td>4R561446512</td>\n",
       "      <td>140</td>\n",
       "      <td>1395</td>\n",
       "      <td>34</td>\n",
       "      <td>...</td>\n",
       "      <td>9999999</td>\n",
       "      <td>5H4DF56H4DF</td>\n",
       "      <td>4.0</td>\n",
       "      <td>C</td>\n",
       "      <td>1268</td>\n",
       "      <td>10.0</td>\n",
       "      <td>O</td>\n",
       "      <td>H</td>\n",
       "      <td>2.0</td>\n",
       "      <td>0</td>\n",
       "    </tr>\n",
       "    <tr>\n",
       "      <th>3</th>\n",
       "      <td>2019</td>\n",
       "      <td>O</td>\n",
       "      <td>1</td>\n",
       "      <td>1</td>\n",
       "      <td>4GH53445</td>\n",
       "      <td>M1GH5M1GH35M</td>\n",
       "      <td>4R561446512</td>\n",
       "      <td>75</td>\n",
       "      <td>1499</td>\n",
       "      <td>9</td>\n",
       "      <td>...</td>\n",
       "      <td>9999999</td>\n",
       "      <td>DF4H</td>\n",
       "      <td>4.0</td>\n",
       "      <td>B</td>\n",
       "      <td>1108</td>\n",
       "      <td>10.0</td>\n",
       "      <td>D</td>\n",
       "      <td>H</td>\n",
       "      <td>45.0</td>\n",
       "      <td>0</td>\n",
       "    </tr>\n",
       "    <tr>\n",
       "      <th>4</th>\n",
       "      <td>2019</td>\n",
       "      <td>T</td>\n",
       "      <td>1</td>\n",
       "      <td>1</td>\n",
       "      <td>NaN</td>\n",
       "      <td>M1GH5M1GH23</td>\n",
       "      <td>4R561446512</td>\n",
       "      <td>112</td>\n",
       "      <td>1560</td>\n",
       "      <td>34</td>\n",
       "      <td>...</td>\n",
       "      <td>9999999</td>\n",
       "      <td>DF4H</td>\n",
       "      <td>4.0</td>\n",
       "      <td>C</td>\n",
       "      <td>1350</td>\n",
       "      <td>10.0</td>\n",
       "      <td>D</td>\n",
       "      <td>H</td>\n",
       "      <td>NaN</td>\n",
       "      <td>0</td>\n",
       "    </tr>\n",
       "  </tbody>\n",
       "</table>\n",
       "<p>5 rows × 40 columns</p>\n",
       "</div>"
      ],
      "text/plain": [
       "   YEAR PERSONEL_COMMERCIAL  KARA_LISTE_KONTROL  KULLANIM_SEKLI  \\\n",
       "0  2019                   O                   1               1   \n",
       "1  2019                   O                   1               1   \n",
       "2  2019                   O                   1               1   \n",
       "3  2019                   O                   1               1   \n",
       "4  2019                   T                   1               1   \n",
       "\n",
       "           MARKA           TIP_GRUP EGM_KULLANIM_SEKLI  MOTOR_GUCU  \\\n",
       "0            NaN           DFH5FD6H        4R561446512         109   \n",
       "1    SD56G4SD5G4   1N1JTGH85FN1GF6H        4R561446512          90   \n",
       "2  XC5B4XC5B4SFD  M1GH586M1G1MH51HG        4R561446512         140   \n",
       "3       4GH53445       M1GH5M1GH35M        4R561446512          75   \n",
       "4            NaN        M1GH5M1GH23        4R561446512         112   \n",
       "\n",
       "   SILINDIR_HACMI  PLAKA_IL_KODU  ...  IHALE_FILO_KODU   ARAC_ALT_CINS  \\\n",
       "0            1560             52  ...          9999999  144RH5ER64HRE+   \n",
       "1            1461             34  ...          9999999  144RH5ER64HRE+   \n",
       "2            1395             34  ...          9999999     5H4DF56H4DF   \n",
       "3            1499              9  ...          9999999            DF4H   \n",
       "4            1560             34  ...          9999999            DF4H   \n",
       "\n",
       "  ARAC_UST_CINS_ID  SEGMENT  AGIRLIK ARAC_TIPI  YAKIT_TIPI  LPG_VAR_MI MESLEK  \\\n",
       "0              4.0        D     1578      10.0           D           H   45.0   \n",
       "1              4.0        C     1280      10.0           D           H    3.0   \n",
       "2              4.0        C     1268      10.0           O           H    2.0   \n",
       "3              4.0        B     1108      10.0           D           H   45.0   \n",
       "4              4.0        C     1350      10.0           D           H    NaN   \n",
       "\n",
       "  HASAR_VAR_MI  \n",
       "0            0  \n",
       "1            0  \n",
       "2            0  \n",
       "3            0  \n",
       "4            0  \n",
       "\n",
       "[5 rows x 40 columns]"
      ]
     },
     "execution_count": 49,
     "metadata": {},
     "output_type": "execute_result"
    }
   ],
   "source": [
    "# First check of the data\n",
    "df.head()"
   ]
  },
  {
   "cell_type": "markdown",
   "id": "1e8d8b2a-0ac7-44a8-8e62-0b7457e91b10",
   "metadata": {},
   "source": [
    "## Data Preprocessing"
   ]
  },
  {
   "cell_type": "code",
   "execution_count": 4,
   "id": "185cba70-cfdc-4836-8228-145ae1c55b88",
   "metadata": {},
   "outputs": [],
   "source": [
    "mean_of_agırlık = df[df[\"AGIRLIK\"] < 999999][\"AGIRLIK\"].mean()\n",
    "df[\"AGIRLIK\"] = df[\"AGIRLIK\"].replace(999999, mean_of_agırlık)"
   ]
  },
  {
   "cell_type": "code",
   "execution_count": 5,
   "id": "7ce8c191-1feb-47b3-9b92-75d5743d5564",
   "metadata": {},
   "outputs": [],
   "source": [
    "std_scaler = StandardScaler()\n",
    "df[\"ARAC_BEDELI\"] = std_scaler.fit_transform(df[[\"ARAC_BEDELI\"]])\n",
    "df[\"AGIRLIK\"] = std_scaler.fit_transform(df[[\"AGIRLIK\"]])"
   ]
  },
  {
   "cell_type": "code",
   "execution_count": 6,
   "id": "473c1635-9c2d-4986-a06e-5de8151eb96b",
   "metadata": {},
   "outputs": [],
   "source": [
    "df[\"ARAC_TIPI\"].fillna(df[\"ARAC_TIPI\"].mode(), inplace=True)"
   ]
  },
  {
   "cell_type": "code",
   "execution_count": 7,
   "id": "50a2febc-51f3-45a8-a483-7baaf76761b8",
   "metadata": {},
   "outputs": [],
   "source": [
    "fill_others = [\n",
    "    \"MARKA\",\n",
    "    \"EGM_KULLANIM_SEKLI\",\n",
    "    \"YAKIT_TIPI\",\n",
    "    \"EGM_CINSI\",\n",
    "    \"ARAC_ALT_CINS\",\n",
    "    \"SEGMENT\",\n",
    "    \"MEDENI_DURUM\",\n",
    "]\n",
    "\n",
    "for col in fill_others:\n",
    "    df[col].fillna(\"OTHER\", inplace=True)"
   ]
  },
  {
   "cell_type": "code",
   "execution_count": 8,
   "id": "8a83a2ed-070b-4430-bd3c-44a775024110",
   "metadata": {},
   "outputs": [],
   "source": [
    "df[\"PERT_SORGU\"] = (\n",
    "    df[\"PERT_SORGU\"].fillna(\"OTHER\").replace(\"0\", \"OTHER\").replace(\"8\", \"OTHER\")\n",
    ")"
   ]
  },
  {
   "cell_type": "code",
   "execution_count": 9,
   "id": "9a752167-8d49-47b8-98fc-743fe7854868",
   "metadata": {},
   "outputs": [],
   "source": [
    "dfa = pd.DataFrame()\n",
    "\n",
    "dfa[\"ONCEKI_POLICE_BASLANGIC_TARIHI\"] = (\n",
    "    df[\"ONCEKI_POLICE_BASLANGIC_TARIHI\"]\n",
    "    .fillna(\"5/12/2018 0:00\")\n",
    "    .apply(lambda x: pd.to_datetime(x))\n",
    ")\n",
    "dfa[\"ONCEKI_POLICE_BITIS_TARIHI\"] = (\n",
    "    df[\"ONCEKI_POLICE_BITIS_TARIHI\"]\n",
    "    .replace(\"999\", \"5/12/2018 0:00\")\n",
    "    .apply(lambda x: pd.to_datetime(x))\n",
    ")\n",
    "dfa[\"ONCEKI_POLICE_BASLANGIC_TARIHI\"] = pd.to_datetime(\n",
    "    dfa[\"ONCEKI_POLICE_BASLANGIC_TARIHI\"], utc=True\n",
    ")\n",
    "dfa[\"ONCEKI_POLICE_BITIS_TARIHI\"] = pd.to_datetime(\n",
    "    dfa[\"ONCEKI_POLICE_BITIS_TARIHI\"], utc=True\n",
    ")\n",
    "dfa[\"ONCEKI_POLICE_BASLANGIC_TARIHI\"] = pd.DatetimeIndex(\n",
    "    dfa[\"ONCEKI_POLICE_BASLANGIC_TARIHI\"]\n",
    ").year\n",
    "dfa[\"ONCEKI_POLICE_BITIS_TARIHI\"] = pd.DatetimeIndex(\n",
    "    dfa[\"ONCEKI_POLICE_BITIS_TARIHI\"]\n",
    ").year\n",
    "\n",
    "dfa[\"YEAR_DIFF\"] = (\n",
    "    dfa[\"ONCEKI_POLICE_BITIS_TARIHI\"] - dfa[\"ONCEKI_POLICE_BASLANGIC_TARIHI\"]\n",
    ")\n",
    "df[\"YEAR_DIFF\"] = dfa[\"YEAR_DIFF\"]"
   ]
  },
  {
   "cell_type": "code",
   "execution_count": 10,
   "id": "bd413ebb-2d7b-4d33-af20-be58f8d52c83",
   "metadata": {},
   "outputs": [],
   "source": [
    "cols = [\n",
    "    \"PERSONEL_COMMERCIAL\",\n",
    "    \"LPG_VAR_MI\",\n",
    "    \"TCK_PLAKA_SORGU\",\n",
    "    \"ORJINAL_OLMAYAN_PARCA_VARMI\",\n",
    "    \"ONCEKI_KASKO_POLICESI_VAR_MI\",\n",
    "]\n",
    "for col in cols:\n",
    "    exec(\n",
    "        f\"le_{col} = LabelEncoder()\"\n",
    "    )  # create label encoder with name \"le_X\", where X is column name\n",
    "    exec(f\"df.{col} = le_{col}.fit_transform(df.{col})\")"
   ]
  },
  {
   "cell_type": "code",
   "execution_count": 11,
   "id": "ac658197-06cf-4f63-8e27-2d9adccbf491",
   "metadata": {},
   "outputs": [],
   "source": [
    "df = df.drop(\n",
    "    columns=[\n",
    "        \"KARA_LISTE_KONTROL\",\n",
    "        \"KULLANIM_SEKLI\",\n",
    "        \"IHALE_FILO_KODU\",\n",
    "        \"UYGULANAN_BASAMAK_KODU\",\n",
    "        \"ARAC_TARIFE_GRUP_KODU\",\n",
    "        \"IHALE_FILO_KODU\",\n",
    "    ]\n",
    ")"
   ]
  },
  {
   "cell_type": "code",
   "execution_count": 12,
   "id": "e123daee-0c8c-4a60-8d07-5bfd86e68727",
   "metadata": {},
   "outputs": [],
   "source": [
    "ohe_cols = [\n",
    "    \"EGM_KULLANIM_SEKLI\",\n",
    "    \"EGM_CINSI\",\n",
    "    \"YAKIT_TIPI\",\n",
    "    \"ARAC_ALT_CINS\",\n",
    "    \"SEGMENT\",\n",
    "    \"PERT_SORGU\",\n",
    "    \"MEDENI_DURUM\",\n",
    "    \"ALT_KULLANIM_SEKLI\",\n",
    "    \"CLAIM_EXPERIENCE\",\n",
    "    \"ARAC_TIPI\",\n",
    "]\n",
    "df_new = df.copy()\n",
    "for column in ohe_cols:\n",
    "    tempdf = pd.get_dummies(df_new[column], prefix=column)\n",
    "    df_new = pd.merge(\n",
    "        left=df_new,\n",
    "        right=tempdf,\n",
    "        left_index=True,\n",
    "        right_index=True,\n",
    "    )\n",
    "    df_new = df_new.drop(columns=column)"
   ]
  },
  {
   "cell_type": "code",
   "execution_count": 13,
   "id": "0175a040-5c33-428c-9316-7c53641c85c6",
   "metadata": {},
   "outputs": [],
   "source": [
    "df_new.drop(\n",
    "    columns=[\n",
    "        \"SILINDIR_HACMI\",\n",
    "        \"PLAKA_IL_KODU\",\n",
    "        \"ONCEKI_ÅIRKET\",\n",
    "        \"ONCEKI_POLICE_BASAMAK_KODU\",\n",
    "        \"ONCEKI_POLICE_BASLANGIC_TARIHI\",\n",
    "        \"ONCEKI_POLICE_BITIS_TARIHI\",\n",
    "        \"PAKET_TIPI\",\n",
    "        \"EGM_CINSI.1\",\n",
    "        \"IKAMET_IL_KODU\",\n",
    "        \"ARAC_UST_CINS_ID\",\n",
    "        \"MESLEK\",\n",
    "    ],\n",
    "    inplace=True,\n",
    ")"
   ]
  },
  {
   "cell_type": "code",
   "execution_count": 14,
   "id": "5597836a-d1fe-46ec-93a0-528288839c12",
   "metadata": {},
   "outputs": [],
   "source": [
    "le_cols = [\"MARKA\", \"TIP_GRUP\"]\n",
    "le = LabelEncoder()\n",
    "for col in le_cols:\n",
    "    df_new[col] = le.fit_transform(df_new[col])\n"
   ]
  },
  {
   "cell_type": "code",
   "execution_count": 15,
   "id": "675f6143-8f6e-4125-be4f-622a21cb4408",
   "metadata": {},
   "outputs": [
    {
     "data": {
      "text/html": [
       "<div>\n",
       "<style scoped>\n",
       "    .dataframe tbody tr th:only-of-type {\n",
       "        vertical-align: middle;\n",
       "    }\n",
       "\n",
       "    .dataframe tbody tr th {\n",
       "        vertical-align: top;\n",
       "    }\n",
       "\n",
       "    .dataframe thead th {\n",
       "        text-align: right;\n",
       "    }\n",
       "</style>\n",
       "<table border=\"1\" class=\"dataframe\">\n",
       "  <thead>\n",
       "    <tr style=\"text-align: right;\">\n",
       "      <th></th>\n",
       "      <th>YEAR</th>\n",
       "      <th>PERSONEL_COMMERCIAL</th>\n",
       "      <th>MARKA</th>\n",
       "      <th>TIP_GRUP</th>\n",
       "      <th>MOTOR_GUCU</th>\n",
       "      <th>ARAC_BEDELI</th>\n",
       "      <th>HASARSIZLIK_INDIRIMI</th>\n",
       "      <th>ARAC_YASI</th>\n",
       "      <th>ONCEKI_KASKO_POLICESI_VAR_MI</th>\n",
       "      <th>ORJINAL_OLMAYAN_PARCA_VARMI</th>\n",
       "      <th>...</th>\n",
       "      <th>ALT_KULLANIM_SEKLI_100</th>\n",
       "      <th>ALT_KULLANIM_SEKLI_102</th>\n",
       "      <th>ALT_KULLANIM_SEKLI_103</th>\n",
       "      <th>CLAIM_EXPERIENCE_0</th>\n",
       "      <th>CLAIM_EXPERIENCE_K</th>\n",
       "      <th>CLAIM_EXPERIENCE_T</th>\n",
       "      <th>CLAIM_EXPERIENCE_X</th>\n",
       "      <th>ARAC_TIPI_10.0</th>\n",
       "      <th>ARAC_TIPI_20.0</th>\n",
       "      <th>ARAC_TIPI_40.0</th>\n",
       "    </tr>\n",
       "  </thead>\n",
       "  <tbody>\n",
       "    <tr>\n",
       "      <th>0</th>\n",
       "      <td>2019</td>\n",
       "      <td>0</td>\n",
       "      <td>23</td>\n",
       "      <td>139</td>\n",
       "      <td>109</td>\n",
       "      <td>-0.627633</td>\n",
       "      <td>5</td>\n",
       "      <td>9</td>\n",
       "      <td>0</td>\n",
       "      <td>1</td>\n",
       "      <td>...</td>\n",
       "      <td>1</td>\n",
       "      <td>0</td>\n",
       "      <td>0</td>\n",
       "      <td>1</td>\n",
       "      <td>0</td>\n",
       "      <td>0</td>\n",
       "      <td>0</td>\n",
       "      <td>1</td>\n",
       "      <td>0</td>\n",
       "      <td>0</td>\n",
       "    </tr>\n",
       "    <tr>\n",
       "      <th>1</th>\n",
       "      <td>2019</td>\n",
       "      <td>0</td>\n",
       "      <td>31</td>\n",
       "      <td>21</td>\n",
       "      <td>90</td>\n",
       "      <td>-0.785504</td>\n",
       "      <td>3</td>\n",
       "      <td>8</td>\n",
       "      <td>0</td>\n",
       "      <td>1</td>\n",
       "      <td>...</td>\n",
       "      <td>1</td>\n",
       "      <td>0</td>\n",
       "      <td>0</td>\n",
       "      <td>1</td>\n",
       "      <td>0</td>\n",
       "      <td>0</td>\n",
       "      <td>0</td>\n",
       "      <td>1</td>\n",
       "      <td>0</td>\n",
       "      <td>0</td>\n",
       "    </tr>\n",
       "    <tr>\n",
       "      <th>2</th>\n",
       "      <td>2019</td>\n",
       "      <td>0</td>\n",
       "      <td>38</td>\n",
       "      <td>215</td>\n",
       "      <td>140</td>\n",
       "      <td>0.307868</td>\n",
       "      <td>0</td>\n",
       "      <td>6</td>\n",
       "      <td>1</td>\n",
       "      <td>1</td>\n",
       "      <td>...</td>\n",
       "      <td>1</td>\n",
       "      <td>0</td>\n",
       "      <td>0</td>\n",
       "      <td>0</td>\n",
       "      <td>0</td>\n",
       "      <td>1</td>\n",
       "      <td>0</td>\n",
       "      <td>1</td>\n",
       "      <td>0</td>\n",
       "      <td>0</td>\n",
       "    </tr>\n",
       "    <tr>\n",
       "      <th>3</th>\n",
       "      <td>2019</td>\n",
       "      <td>0</td>\n",
       "      <td>2</td>\n",
       "      <td>217</td>\n",
       "      <td>75</td>\n",
       "      <td>-0.507025</td>\n",
       "      <td>0</td>\n",
       "      <td>6</td>\n",
       "      <td>1</td>\n",
       "      <td>0</td>\n",
       "      <td>...</td>\n",
       "      <td>1</td>\n",
       "      <td>0</td>\n",
       "      <td>0</td>\n",
       "      <td>0</td>\n",
       "      <td>0</td>\n",
       "      <td>1</td>\n",
       "      <td>0</td>\n",
       "      <td>1</td>\n",
       "      <td>0</td>\n",
       "      <td>0</td>\n",
       "    </tr>\n",
       "    <tr>\n",
       "      <th>4</th>\n",
       "      <td>2019</td>\n",
       "      <td>1</td>\n",
       "      <td>23</td>\n",
       "      <td>216</td>\n",
       "      <td>112</td>\n",
       "      <td>-0.572547</td>\n",
       "      <td>0</td>\n",
       "      <td>7</td>\n",
       "      <td>0</td>\n",
       "      <td>1</td>\n",
       "      <td>...</td>\n",
       "      <td>1</td>\n",
       "      <td>0</td>\n",
       "      <td>0</td>\n",
       "      <td>1</td>\n",
       "      <td>0</td>\n",
       "      <td>0</td>\n",
       "      <td>0</td>\n",
       "      <td>1</td>\n",
       "      <td>0</td>\n",
       "      <td>0</td>\n",
       "    </tr>\n",
       "  </tbody>\n",
       "</table>\n",
       "<p>5 rows × 75 columns</p>\n",
       "</div>"
      ],
      "text/plain": [
       "   YEAR  PERSONEL_COMMERCIAL  MARKA  TIP_GRUP  MOTOR_GUCU  ARAC_BEDELI  \\\n",
       "0  2019                    0     23       139         109    -0.627633   \n",
       "1  2019                    0     31        21          90    -0.785504   \n",
       "2  2019                    0     38       215         140     0.307868   \n",
       "3  2019                    0      2       217          75    -0.507025   \n",
       "4  2019                    1     23       216         112    -0.572547   \n",
       "\n",
       "   HASARSIZLIK_INDIRIMI  ARAC_YASI  ONCEKI_KASKO_POLICESI_VAR_MI  \\\n",
       "0                     5          9                             0   \n",
       "1                     3          8                             0   \n",
       "2                     0          6                             1   \n",
       "3                     0          6                             1   \n",
       "4                     0          7                             0   \n",
       "\n",
       "   ORJINAL_OLMAYAN_PARCA_VARMI  ...  ALT_KULLANIM_SEKLI_100  \\\n",
       "0                            1  ...                       1   \n",
       "1                            1  ...                       1   \n",
       "2                            1  ...                       1   \n",
       "3                            0  ...                       1   \n",
       "4                            1  ...                       1   \n",
       "\n",
       "   ALT_KULLANIM_SEKLI_102  ALT_KULLANIM_SEKLI_103  CLAIM_EXPERIENCE_0  \\\n",
       "0                       0                       0                   1   \n",
       "1                       0                       0                   1   \n",
       "2                       0                       0                   0   \n",
       "3                       0                       0                   0   \n",
       "4                       0                       0                   1   \n",
       "\n",
       "   CLAIM_EXPERIENCE_K  CLAIM_EXPERIENCE_T  CLAIM_EXPERIENCE_X  ARAC_TIPI_10.0  \\\n",
       "0                   0                   0                   0               1   \n",
       "1                   0                   0                   0               1   \n",
       "2                   0                   1                   0               1   \n",
       "3                   0                   1                   0               1   \n",
       "4                   0                   0                   0               1   \n",
       "\n",
       "   ARAC_TIPI_20.0  ARAC_TIPI_40.0  \n",
       "0               0               0  \n",
       "1               0               0  \n",
       "2               0               0  \n",
       "3               0               0  \n",
       "4               0               0  \n",
       "\n",
       "[5 rows x 75 columns]"
      ]
     },
     "execution_count": 15,
     "metadata": {},
     "output_type": "execute_result"
    }
   ],
   "source": [
    "df_new.head()"
   ]
  },
  {
   "cell_type": "markdown",
   "id": "344599c6-9ba9-4587-8491-2150ca0fb08c",
   "metadata": {},
   "source": [
    "## Modelling"
   ]
  },
  {
   "cell_type": "code",
   "execution_count": 16,
   "id": "ffacf8a2-7998-4531-bae1-bf6ce61dc56b",
   "metadata": {},
   "outputs": [],
   "source": [
    "from sklearn.model_selection import train_test_split\n",
    "\n",
    "X = df_new.drop(columns=[\"HASAR_VAR_MI\"])\n",
    "y = df_new[\"HASAR_VAR_MI\"]\n",
    "\n",
    "x_train, x_test, y_train, y_test = train_test_split(\n",
    "    X, y, test_size=0.2, random_state=42\n",
    ")\n"
   ]
  },
  {
   "cell_type": "code",
   "execution_count": 17,
   "id": "f22f4b50-90b2-4292-840e-97c358b2392b",
   "metadata": {},
   "outputs": [
    {
     "data": {
      "text/plain": [
       "XGBClassifier(base_score=0.5, booster='gbtree', callbacks=None,\n",
       "              colsample_bylevel=1, colsample_bynode=1, colsample_bytree=1,\n",
       "              early_stopping_rounds=None, enable_categorical=False,\n",
       "              eval_metric=None, gamma=0, gpu_id=-1, grow_policy='depthwise',\n",
       "              importance_type=None, interaction_constraints='',\n",
       "              learning_rate=0.300000012, max_bin=256, max_cat_to_onehot=4,\n",
       "              max_delta_step=0, max_depth=6, max_leaves=0, min_child_weight=1,\n",
       "              missing=nan, monotone_constraints='()', n_estimators=100,\n",
       "              n_jobs=0, num_parallel_tree=1, predictor='auto', random_state=0,\n",
       "              reg_alpha=0, reg_lambda=1, ...)"
      ]
     },
     "execution_count": 17,
     "metadata": {},
     "output_type": "execute_result"
    }
   ],
   "source": [
    "from xgboost import XGBClassifier\n",
    "\n",
    "model = XGBClassifier()\n",
    "model.fit(x_train, y_train)"
   ]
  },
  {
   "cell_type": "code",
   "execution_count": 18,
   "id": "12f1026b-c899-4030-b9be-19188e8097e8",
   "metadata": {},
   "outputs": [],
   "source": [
    "pred = model.predict(x_test)"
   ]
  },
  {
   "cell_type": "code",
   "execution_count": 19,
   "id": "6f821b95-4629-4bb9-b4ab-38669168b313",
   "metadata": {},
   "outputs": [
    {
     "name": "stdout",
     "output_type": "stream",
     "text": [
      "Accuracy: 0.8150943396226416\n",
      "F1 Score: 0.11664899257688228\n"
     ]
    }
   ],
   "source": [
    "from sklearn.metrics import accuracy_score, f1_score\n",
    "\n",
    "print(f\"Accuracy: {accuracy_score(y_test, pred)}\")\n",
    "print(f\"F1 Score: {f1_score(y_test, pred)}\")"
   ]
  },
  {
   "cell_type": "code",
   "execution_count": 28,
   "id": "8fd0a41f-34dc-4557-9d9c-9894483fcf9e",
   "metadata": {},
   "outputs": [
    {
     "name": "stdout",
     "output_type": "stream",
     "text": [
      "              precision    recall  f1-score   support\n",
      "\n",
      "           0       0.86      0.57      0.68      3663\n",
      "           1       0.24      0.61      0.35       842\n",
      "\n",
      "    accuracy                           0.57      4505\n",
      "   macro avg       0.55      0.59      0.52      4505\n",
      "weighted avg       0.75      0.57      0.62      4505\n",
      "\n"
     ]
    },
    {
     "data": {
      "image/png": "[encoded data removed]",
      "text/plain": [
       "<Figure size 432x288 with 2 Axes>"
      ]
     },
     "metadata": {
      "needs_background": "light"
     },
     "output_type": "display_data"
    }
   ],
   "source": [
    "treshold = 15\n",
    "\n",
    "pred_prob = model.predict_proba(x_test)[:, 1]\n",
    "pred_prob_bool = pred_prob >= (treshold / 100)\n",
    "\n",
    "cm = confusion_matrix(y_test, pred_prob_bool)\n",
    "ax = plt.subplot()\n",
    "\n",
    "sns.heatmap(cm, annot=True, fmt=\"\", ax=ax)\n",
    "# annot=True to annotate cells, ftm='g' to disable scientific notation\n",
    "\n",
    "# labels, title and ticks\n",
    "ax.set_xlabel(\"Predicted labels\")\n",
    "ax.set_ylabel(\"True labels\")\n",
    "ax.set_title(\"Confusion Matrix\")\n",
    "\n",
    "print(classification_report(y_test, pred_prob_bool))"
   ]
  },
  {
   "cell_type": "code",
   "execution_count": 29,
   "id": "758a5b1b-b98c-41a5-8726-6a75e1dd22ba",
   "metadata": {},
   "outputs": [
    {
     "data": {
      "text/plain": [
       "array([0.07439694, 0.32329047, 0.1337885 , ..., 0.09865133, 0.19023728,\n",
       "       0.13485412], dtype=float32)"
      ]
     },
     "execution_count": 29,
     "metadata": {},
     "output_type": "execute_result"
    }
   ],
   "source": [
    "pred_prob"
   ]
  },
  {
   "cell_type": "code",
   "execution_count": 30,
   "id": "d8d9f36e-f5ad-4d3e-b694-e724458c16ea",
   "metadata": {},
   "outputs": [],
   "source": [
    "df_y = pd.DataFrame({\"prob\": pred_prob, \"HASAR_VAR_MI\": y_test})"
   ]
  },
  {
   "cell_type": "code",
   "execution_count": 31,
   "id": "8d8d5daa-bb07-45b6-b6e3-33843f2d9629",
   "metadata": {},
   "outputs": [
    {
     "data": {
      "text/plain": [
       "<seaborn.axisgrid.FacetGrid at 0x7ff6e521c940>"
      ]
     },
     "execution_count": 31,
     "metadata": {},
     "output_type": "execute_result"
    },
    {
     "data": {
      "image/png": "[encoded data removed]",
      "text/plain": [
       "<Figure size 444x360 with 1 Axes>"
      ]
     },
     "metadata": {
      "needs_background": "light"
     },
     "output_type": "display_data"
    }
   ],
   "source": [
    "sns.displot(df_y, x=\"prob\", hue=\"HASAR_VAR_MI\")"
   ]
  },
  {
   "cell_type": "code",
   "execution_count": 32,
   "id": "983a4dfa-fd1e-43b1-b421-bd005f9673e8",
   "metadata": {},
   "outputs": [
    {
     "data": {
      "text/plain": [
       "0.8978456854820251"
      ]
     },
     "execution_count": 32,
     "metadata": {},
     "output_type": "execute_result"
    }
   ],
   "source": [
    "df_y.prob.max()"
   ]
  },
  {
   "cell_type": "code",
   "execution_count": 33,
   "id": "a7064f74-9e76-478c-8f6b-f95517f5ab25",
   "metadata": {},
   "outputs": [
    {
     "name": "stdout",
     "output_type": "stream",
     "text": [
      "Accuracy: 0.8250832408435073\n",
      "F1 Score: 0.3706070287539936\n"
     ]
    }
   ],
   "source": [
    "from sklearn.ensemble import RandomForestClassifier\n",
    "\n",
    "model2 = RandomForestClassifier()\n",
    "model2.fit(x_train, y_train)\n",
    "pred2 = model2.predict(x_test)\n",
    "from sklearn.metrics import accuracy_score, f1_score\n",
    "\n",
    "print(f\"Accuracy: {accuracy_score(y_test, pred2)}\")\n",
    "print(f\"F1 Score: {f1_score(y_test, pred2)}\")"
   ]
  },
  {
   "cell_type": "code",
   "execution_count": 34,
   "id": "0b8c312f-1b99-4457-8cd0-0e1b0c1d95f3",
   "metadata": {},
   "outputs": [
    {
     "name": "stdout",
     "output_type": "stream",
     "text": [
      "              precision    recall  f1-score   support\n",
      "\n",
      "           0       0.87      0.60      0.71      3663\n",
      "           1       0.26      0.61      0.36       842\n",
      "\n",
      "    accuracy                           0.60      4505\n",
      "   macro avg       0.56      0.61      0.54      4505\n",
      "weighted avg       0.76      0.60      0.65      4505\n",
      "\n"
     ]
    },
    {
     "data": {
      "image/png": "[encoded data removed]",
      "text/plain": [
       "<Figure size 432x288 with 2 Axes>"
      ]
     },
     "metadata": {
      "needs_background": "light"
     },
     "output_type": "display_data"
    }
   ],
   "source": [
    "treshold = 15\n",
    "\n",
    "pred_prob2 = model2.predict_proba(x_test)[:, 1]\n",
    "pred_prob_bool2 = pred_prob2 >= (treshold / 100)\n",
    "\n",
    "cm = confusion_matrix(y_test, pred_prob_bool2)\n",
    "ax = plt.subplot()\n",
    "\n",
    "sns.heatmap(cm, annot=True, fmt=\"\", ax=ax)\n",
    "# annot=True to annotate cells, ftm='g' to disable scientific notation\n",
    "\n",
    "# labels, title and ticks\n",
    "ax.set_xlabel(\"Predicted labels\")\n",
    "ax.set_ylabel(\"True labels\")\n",
    "ax.set_title(\"Confusion Matrix\")\n",
    "\n",
    "print(classification_report(y_test, pred_prob_bool2))"
   ]
  },
  {
   "cell_type": "code",
   "execution_count": 35,
   "id": "63fe545f-c548-4eb3-97c1-32e75bdb024b",
   "metadata": {},
   "outputs": [],
   "source": [
    "df_y2 = pd.DataFrame({\"prob\": pred_prob2, \"HASAR_VAR_MI\": y_test})"
   ]
  },
  {
   "cell_type": "code",
   "execution_count": 36,
   "id": "387fb05c-88f3-4975-9c54-99f1f4629191",
   "metadata": {},
   "outputs": [
    {
     "data": {
      "text/plain": [
       "<seaborn.axisgrid.FacetGrid at 0x7ff6e5329640>"
      ]
     },
     "execution_count": 36,
     "metadata": {},
     "output_type": "execute_result"
    },
    {
     "data": {
      "image/png": "[encoded data removed]",
      "text/plain": [
       "<Figure size 444x360 with 1 Axes>"
      ]
     },
     "metadata": {
      "needs_background": "light"
     },
     "output_type": "display_data"
    }
   ],
   "source": [
    "sns.displot(df_y2, x=\"prob\", hue=\"HASAR_VAR_MI\")\n"
   ]
  },
  {
   "cell_type": "code",
   "execution_count": 37,
   "id": "b58aecf6-0333-46f9-afda-9132faac24b7",
   "metadata": {},
   "outputs": [
    {
     "data": {
      "text/plain": [
       "1.0"
      ]
     },
     "execution_count": 37,
     "metadata": {},
     "output_type": "execute_result"
    }
   ],
   "source": [
    "df_y2.prob.max()"
   ]
  },
  {
   "cell_type": "code",
   "execution_count": null,
   "id": "abb701db-f25f-46af-bbc9-14a1611a5e06",
   "metadata": {},
   "outputs": [],
   "source": []
  }
 ],
 "metadata": {
  "kernelspec": {
   "display_name": "Python 3.9.7 64-bit",
   "language": "python",
   "name": "python3"
  },
  "language_info": {
   "codemirror_mode": {
    "name": "ipython",
    "version": 3
   },
   "file_extension": ".py",
   "mimetype": "text/x-python",
   "name": "python",
   "nbconvert_exporter": "python",
   "pygments_lexer": "ipython3",
   "version": "3.9.7"
  },
  "vscode": {
   "interpreter": {
    "hash": "aee8b7b246df8f9039afb4144a1f6fd8d2ca17a180786b69acc140d282b71a49"
   }
  }
 },
 "nbformat": 4,
 "nbformat_minor": 5
}
